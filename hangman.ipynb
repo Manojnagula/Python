{
 "cells": [
  {
   "cell_type": "code",
   "execution_count": 3,
   "metadata": {},
   "outputs": [],
   "source": [
    "import random"
   ]
  },
  {
   "cell_type": "code",
   "execution_count": 4,
   "metadata": {},
   "outputs": [],
   "source": [
    "words = [\n",
    "    \"apple\", \"banana\", \"cherry\", \"date\", \"elderberry\", \"fig\", \"grape\", \"honeydew\", \"kiwi\", \"lemon\",\n",
    "    \"mango\", \"nectarine\", \"orange\", \"papaya\", \"quince\", \"raspberry\", \"strawberry\", \"tangerine\", \"ugli\", \"vanilla\",\n",
    "    \"watermelon\", \"xigua\", \"yam\", \"zucchini\", \"apricot\", \"blueberry\", \"cantaloupe\", \"dragonfruit\", \"eggplant\", \"feijoa\",\n",
    "    \"guava\", \"huckleberry\", \"jackfruit\", \"kumquat\", \"lime\", \"mulberry\", \"olive\", \"peach\", \"plum\", \"pomegranate\",\n",
    "    \"rhubarb\", \"starfruit\", \"tomato\", \"uva\", \"voavanga\", \"wolfberry\", \"ximenia\", \"yellowfruit\", \"ziziphus\"\n",
    "]"
   ]
  },
  {
   "cell_type": "code",
   "execution_count": 5,
   "metadata": {},
   "outputs": [],
   "source": [
    "oword=word = random.choice(words)"
   ]
  },
  {
   "cell_type": "code",
   "execution_count": 6,
   "metadata": {},
   "outputs": [
    {
     "data": {
      "text/plain": [
       "['h', 'o', 'n', 'e', 'y', 'd', 'e', 'w']"
      ]
     },
     "execution_count": 6,
     "metadata": {},
     "output_type": "execute_result"
    }
   ],
   "source": [
    "word\n",
    "letters = []\n",
    "for i in word:\n",
    "    letters.append(i)\n",
    "letters"
   ]
  },
  {
   "cell_type": "code",
   "execution_count": 7,
   "metadata": {},
   "outputs": [
    {
     "name": "stdout",
     "output_type": "stream",
     "text": [
      "['_', '_', '_', '_', '_', '_', '_', '_']\n"
     ]
    }
   ],
   "source": [
    "output = letters.copy()\n",
    "for i in range(len(output)):\n",
    "    output[i] = '_'\n",
    "print(output)"
   ]
  },
  {
   "cell_type": "code",
   "execution_count": 8,
   "metadata": {},
   "outputs": [
    {
     "name": "stdout",
     "output_type": "stream",
     "text": [
      "['h', 'o', 'n', 'e', 'y', 'd', 'e', 'w']\n"
     ]
    }
   ],
   "source": [
    "print(letters)"
   ]
  },
  {
   "cell_type": "code",
   "execution_count": 9,
   "metadata": {},
   "outputs": [
    {
     "name": "stdout",
     "output_type": "stream",
     "text": [
      "No\n",
      "___e____\n",
      "No\n",
      "No\n",
      "_o_e____\n",
      "No\n",
      "ho_e____\n",
      "hone____\n",
      "honey___\n",
      "No\n",
      "No\n",
      "Dead\n",
      "honeydew\n"
     ]
    }
   ],
   "source": [
    "for i in range(len(word)+3):\n",
    "   char =  input(\"Enter a letter : \")\n",
    "   if char in word:\n",
    "      idx = word.find(char)\n",
    "      output[idx]=char\n",
    "      letters[idx]=\"_\"\n",
    "      lst = list(word)\n",
    "      lst[idx]=\"_\"\n",
    "      word = \"\".join(lst)\n",
    "      print(\"\".join(output))\n",
    "      if \"\".join(output).find(\"_\") == -1:\n",
    "         print(\"saved\")\n",
    "         break\n",
    "   else:\n",
    "      print('No')\n",
    "if \"\".join(output).find(\"_\") != -1:\n",
    "   print(\"Dead\")\n",
    "print(oword)"
   ]
  }
 ],
 "metadata": {
  "kernelspec": {
   "display_name": "Python 3",
   "language": "python",
   "name": "python3"
  },
  "language_info": {
   "codemirror_mode": {
    "name": "ipython",
    "version": 3
   },
   "file_extension": ".py",
   "mimetype": "text/x-python",
   "name": "python",
   "nbconvert_exporter": "python",
   "pygments_lexer": "ipython3",
   "version": "3.12.6"
  }
 },
 "nbformat": 4,
 "nbformat_minor": 2
}
