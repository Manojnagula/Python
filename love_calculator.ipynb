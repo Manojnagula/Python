{
 "cells": [
  {
   "cell_type": "code",
   "execution_count": 1,
   "metadata": {},
   "outputs": [
    {
     "name": "stdout",
     "output_type": "stream",
     "text": [
      "Love Score = 22\n"
     ]
    }
   ],
   "source": [
    "def calculate_love_score(name1,name2):\n",
    "    merged_name = (name1+name2).upper()\n",
    "    string1 = 'TRUE'\n",
    "    string2 = 'LOVE'\n",
    "    count1=0\n",
    "    count2=0\n",
    "    for i in merged_name:\n",
    "        if i in string1:\n",
    "            count1+=1\n",
    "        if i in string2:\n",
    "            count2+=1\n",
    "    print(f\"Love Score = {str(count1)+str(count2)}\")\n",
    "calculate_love_score('jack','rose')"
   ]
  }
 ],
 "metadata": {
  "kernelspec": {
   "display_name": "Python 3",
   "language": "python",
   "name": "python3"
  },
  "language_info": {
   "codemirror_mode": {
    "name": "ipython",
    "version": 3
   },
   "file_extension": ".py",
   "mimetype": "text/x-python",
   "name": "python",
   "nbconvert_exporter": "python",
   "pygments_lexer": "ipython3",
   "version": "3.12.6"
  }
 },
 "nbformat": 4,
 "nbformat_minor": 2
}
